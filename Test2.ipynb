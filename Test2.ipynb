{
 "cells": [
  {
   "cell_type": "code",
   "execution_count": 5,
   "metadata": {},
   "outputs": [],
   "source": [
    "from selenium import webdriver\n",
    "from selenium.webdriver.common.by import By\n",
    "from selenium.webdriver import ChromeOptions\n",
    "from selenium.webdriver.support import expected_conditions as EC\n",
    "from selenium.webdriver.common.action_chains import ActionChains"
   ]
  },
  {
   "cell_type": "code",
   "execution_count": 6,
   "metadata": {},
   "outputs": [],
   "source": [
    "driver = webdriver.Chrome()"
   ]
  },
  {
   "cell_type": "code",
   "execution_count": 83,
   "metadata": {},
   "outputs": [],
   "source": [
    "img_url = \"https://ext.captcha.yandex.net/image?key=00AfQaaMTD4uyRMG1Z3tI9pJyPeTwUQY\""
   ]
  },
  {
   "cell_type": "code",
   "execution_count": 84,
   "metadata": {},
   "outputs": [],
   "source": [
    "url = f\"https://lens.google.com/uploadbyurl?url={img_url}&hl=en\""
   ]
  },
  {
   "cell_type": "code",
   "execution_count": 85,
   "metadata": {},
   "outputs": [],
   "source": [
    "driver.get(url)"
   ]
  },
  {
   "cell_type": "code",
   "execution_count": 86,
   "metadata": {},
   "outputs": [],
   "source": [
    "el = driver.find_element(By.XPATH, \"//script[@class='ds:1']\")"
   ]
  },
  {
   "cell_type": "code",
   "execution_count": 87,
   "metadata": {},
   "outputs": [
    {
     "data": {
      "text/plain": [
       "'historical arbitrary'"
      ]
     },
     "execution_count": 87,
     "metadata": {},
     "output_type": "execute_result"
    }
   ],
   "source": [
    "el.get_attribute(\"innerHTML\").split('[[[\"')[-1].split('\"]]')[0].replace('\",\"', ' ')"
   ]
  },
  {
   "cell_type": "code",
   "execution_count": 2,
   "metadata": {},
   "outputs": [
    {
     "name": "stdout",
     "output_type": "stream",
     "text": [
      "ybongnvlkf@1secmail.com\n"
     ]
    },
    {
     "ename": "TimeoutError",
     "evalue": "Timed out waiting for message",
     "output_type": "error",
     "traceback": [
      "\u001b[1;31m---------------------------------------------------------------------------\u001b[0m",
      "\u001b[1;31mTimeoutError\u001b[0m                              Traceback (most recent call last)",
      "Cell \u001b[1;32mIn[2], line 8\u001b[0m\n\u001b[0;32m      4\u001b[0m \u001b[38;5;28mprint\u001b[39m(email\u001b[38;5;241m.\u001b[39maddress)  \u001b[38;5;66;03m# qwerty123@1secmail.com\u001b[39;00m\n\u001b[0;32m      6\u001b[0m \u001b[38;5;66;03m# ... request some email ...\u001b[39;00m\n\u001b[1;32m----> 8\u001b[0m msg \u001b[38;5;241m=\u001b[39m \u001b[43memail\u001b[49m\u001b[38;5;241;43m.\u001b[39;49m\u001b[43mwait_for_message\u001b[49m\u001b[43m(\u001b[49m\u001b[43m)\u001b[49m\n\u001b[0;32m      9\u001b[0m \u001b[38;5;28mprint\u001b[39m(msg\u001b[38;5;241m.\u001b[39mbody)  \u001b[38;5;66;03m# Hello World!\\n\u001b[39;00m\n",
      "File \u001b[1;32mc:\\Users\\piyus\\AppData\\Local\\Programs\\Python\\Python312\\Lib\\site-packages\\tempmail\\providers.py:84\u001b[0m, in \u001b[0;36mOneSecMail.wait_for_message\u001b[1;34m(self, timeout, filter)\u001b[0m\n\u001b[0;32m     81\u001b[0m             \u001b[38;5;28;01mreturn\u001b[39;00m msg_info\u001b[38;5;241m.\u001b[39mmessage\n\u001b[0;32m     82\u001b[0m     time\u001b[38;5;241m.\u001b[39msleep(OneSecMail\u001b[38;5;241m.\u001b[39minbox_update_interval)\n\u001b[1;32m---> 84\u001b[0m \u001b[38;5;28;01mraise\u001b[39;00m \u001b[38;5;167;01mTimeoutError\u001b[39;00m(\u001b[38;5;124m'\u001b[39m\u001b[38;5;124mTimed out waiting for message\u001b[39m\u001b[38;5;124m'\u001b[39m)\n",
      "\u001b[1;31mTimeoutError\u001b[0m: Timed out waiting for message"
     ]
    }
   ],
   "source": [
    "from tempmail import EMail\n",
    "\n",
    "email = EMail()\n",
    "print(email.address)  # qwerty123@1secmail.com\n",
    "\n",
    "# ... request some email ...\n",
    "\n",
    "msg = email.wait_for_message()\n",
    "print(msg.body)  # Hello World!\\n"
   ]
  },
  {
   "cell_type": "code",
   "execution_count": null,
   "metadata": {},
   "outputs": [],
   "source": []
  }
 ],
 "metadata": {
  "kernelspec": {
   "display_name": "Python 3",
   "language": "python",
   "name": "python3"
  },
  "language_info": {
   "codemirror_mode": {
    "name": "ipython",
    "version": 3
   },
   "file_extension": ".py",
   "mimetype": "text/x-python",
   "name": "python",
   "nbconvert_exporter": "python",
   "pygments_lexer": "ipython3",
   "version": "3.12.4"
  }
 },
 "nbformat": 4,
 "nbformat_minor": 2
}
