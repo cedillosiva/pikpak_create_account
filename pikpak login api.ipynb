{
 "cells": [
  {
   "cell_type": "code",
   "execution_count": 1,
   "metadata": {},
   "outputs": [],
   "source": [
    "from selenium import webdriver\n",
    "from selenium.webdriver.common.by import By\n",
    "from selenium.webdriver import Chrome, ChromeOptions, EdgeOptions, FirefoxOptions\n",
    "from selenium.webdriver.firefox.options import Options\n",
    "from selenium.webdriver.support import expected_conditions as EC\n",
    "from selenium.webdriver.support.wait import WebDriverWait\n",
    "import time\n",
    "from GmailBox import GmailBox\n",
    "import json\n",
    "from selenium.webdriver.common.keys import Keys\n",
    "import pyautogui\n",
    "import os"
   ]
  },
  {
   "cell_type": "code",
   "execution_count": 2,
   "metadata": {},
   "outputs": [],
   "source": [
    "def wait_for_element(driver, xpath, waitS = 10):\n",
    "    for i in range(waitS):\n",
    "        if len(driver.find_elements(By.XPATH, xpath)) > 0:\n",
    "            break\n",
    "        time.sleep(1)"
   ]
  },
  {
   "cell_type": "code",
   "execution_count": 3,
   "metadata": {},
   "outputs": [
    {
     "name": "stdout",
     "output_type": "stream",
     "text": [
      "babettelave.rri.er.245@gmail.com\n"
     ]
    }
   ],
   "source": [
    "Gmail = GmailBox()\n",
    "New_Gmail = Gmail.new_email()\n",
    "email = New_Gmail.email\n",
    "print(email)"
   ]
  },
  {
   "cell_type": "code",
   "execution_count": 4,
   "metadata": {},
   "outputs": [],
   "source": [
    "password = 'Test@1234'\n",
    "magnet = 'magnet:?xt=urn:btih:3928fc19fef800d3b164eabbfe3ef9aac4432c5b'"
   ]
  },
  {
   "cell_type": "code",
   "execution_count": 5,
   "metadata": {},
   "outputs": [],
   "source": [
    "options = ChromeOptions()\n",
    "#provide location where chrome stores profiles\n",
    "#options.add_argument(r\"--user-data-dir=C:\\\\Users\\\\piyus\\\\AppData\\\\Local\\\\Google\\\\Chrome\\\\User Data\\\\pikpak\")\n",
    "#provide the profile name with which we want to open browser\n",
    "#options.add_argument('--profile-directory=pikpak')\n",
    "#options.add_extension('captcha_solver.crx')\n",
    "#options.add_extension(f\"{os.getcwd()}\\\\pikpak.crx\")\n",
    "options.add_argument(f\"--load-extension={os.getcwd()}\\\\captcha_solver\")\n",
    "driver = webdriver.Chrome(options=options)\n",
    "#driver.delete_all_cookies()\n",
    "driver.maximize_window()"
   ]
  },
  {
   "cell_type": "code",
   "execution_count": 6,
   "metadata": {},
   "outputs": [],
   "source": [
    "driver.get(\"https://mypikpak.com/drive/login\")"
   ]
  },
  {
   "cell_type": "code",
   "execution_count": 7,
   "metadata": {},
   "outputs": [],
   "source": [
    "#driver.find_element(By.XPATH,\"//a[@class='guide-button introjs-nextbutton introjs-fullbutton']\").click()\n",
    "#driver.find_element(By.XPATH,\"//a[@class='guide-button introjs-nextbutton introjs-fullbutton introjs-donebutton']\").click()\n",
    "#driver.find_element(By.XPATH,\"(//div[@class='close'])[2]\").click()\n",
    "#driver.find_element(By.XPATH,\"(//div[@class='placeholder'])[1]\").click()"
   ]
  },
  {
   "cell_type": "code",
   "execution_count": 8,
   "metadata": {},
   "outputs": [],
   "source": [
    "try:\n",
    "    driver.find_element(By.XPATH, \"//span[@class='other-login-methods']\").click()\n",
    "except:\n",
    "    pass"
   ]
  },
  {
   "cell_type": "code",
   "execution_count": 9,
   "metadata": {},
   "outputs": [],
   "source": [
    "try:\n",
    "    driver.find_element(By.XPATH, \"//div[@class='icon-email']\").click()\n",
    "except:\n",
    "    pass"
   ]
  },
  {
   "cell_type": "code",
   "execution_count": 10,
   "metadata": {},
   "outputs": [],
   "source": [
    "driver.find_element(By.XPATH, \"//span[@class='login-header-subtitle link']\").click()"
   ]
  },
  {
   "cell_type": "code",
   "execution_count": 11,
   "metadata": {},
   "outputs": [],
   "source": [
    "driver.find_element(By.XPATH, \"(//input)[1]\").send_keys(email)"
   ]
  },
  {
   "cell_type": "code",
   "execution_count": 12,
   "metadata": {},
   "outputs": [],
   "source": [
    "driver.find_element(By.XPATH, \"//div[@class='count-down-button']\").click()"
   ]
  },
  {
   "cell_type": "code",
   "execution_count": 13,
   "metadata": {},
   "outputs": [],
   "source": [
    "driver.find_element(By.CSS_SELECTOR, \"body\").send_keys(Keys.CONTROL+Keys.SHIFT+\"Y\")"
   ]
  },
  {
   "cell_type": "code",
   "execution_count": 14,
   "metadata": {},
   "outputs": [],
   "source": [
    "driver.minimize_window()\n",
    "driver.maximize_window()\n",
    "time.sleep(1)\n",
    "pyautogui.hotkey('ctrl','shift','Y')\n",
    "time.sleep(1)\n",
    "pyautogui.hotkey('esc')"
   ]
  },
  {
   "cell_type": "code",
   "execution_count": 15,
   "metadata": {},
   "outputs": [],
   "source": [
    "while True:\n",
    "    if len(driver.find_elements(By.XPATH, \"//iframe\"))==0:\n",
    "        break"
   ]
  },
  {
   "cell_type": "code",
   "execution_count": 16,
   "metadata": {},
   "outputs": [
    {
     "data": {
      "text/plain": [
       "'driver.switch_to.default_content()\\niframes = driver.find_elements(By.XPATH, \"//iframe\")\\ndriver.switch_to.frame(iframes[0])\\niframes = driver.find_elements(By.XPATH, \"//iframe\")\\ndriver.switch_to.frame(iframes[0])\\ndriver.find_element(By.XPATH, \"//div[@class=\\'recaptcha-checkbox-border\\']\").click()\\n'"
      ]
     },
     "execution_count": 16,
     "metadata": {},
     "output_type": "execute_result"
    }
   ],
   "source": [
    "'''driver.switch_to.default_content()\n",
    "iframes = driver.find_elements(By.XPATH, \"//iframe\")\n",
    "driver.switch_to.frame(iframes[0])\n",
    "iframes = driver.find_elements(By.XPATH, \"//iframe\")\n",
    "driver.switch_to.frame(iframes[0])\n",
    "driver.find_element(By.XPATH, \"//div[@class='recaptcha-checkbox-border']\").click()\n",
    "'''"
   ]
  },
  {
   "cell_type": "code",
   "execution_count": 17,
   "metadata": {},
   "outputs": [
    {
     "name": "stdout",
     "output_type": "stream",
     "text": [
      "291618\n"
     ]
    }
   ],
   "source": [
    "# Start checking the inbox\n",
    "inbox = Gmail.inbox(email)\n",
    "\n",
    "# If there are messages in the inbox, print them\n",
    "if inbox:\n",
    "    for message in inbox:\n",
    "        code = str(message).split(\"verification Code：\")[2][:6]\n",
    "        print(code)\n",
    "# If no messages were received, print a message\n",
    "else:\n",
    "    print(f' [!] No messages were received.')"
   ]
  },
  {
   "cell_type": "code",
   "execution_count": 18,
   "metadata": {},
   "outputs": [],
   "source": [
    "driver.switch_to.default_content()\n",
    "driver.find_element(By.XPATH, \"(//input)[2]\").send_keys(code)\n",
    "driver.find_element(By.XPATH, \"(//input)[3]\").send_keys(password)\n",
    "driver.find_element(By.XPATH, \"(//input)[4]\").send_keys(password)"
   ]
  },
  {
   "cell_type": "code",
   "execution_count": 19,
   "metadata": {},
   "outputs": [],
   "source": [
    "driver.find_element(By.XPATH, \"//button[@class='pp-button']\").click()"
   ]
  },
  {
   "cell_type": "code",
   "execution_count": 20,
   "metadata": {},
   "outputs": [],
   "source": [
    "wait_for_element(driver, \"//a[contains(text(),'I Know')]\")\n",
    "driver.find_element(By.XPATH, \"//a[contains(text(),'I Know')]\").click()\n",
    "time.sleep(1)\n",
    "wait_for_element(driver, \"//a[contains(text(),'I Know')]\")\n",
    "driver.find_element(By.XPATH, \"//a[contains(text(),'I Know')]\").click()"
   ]
  },
  {
   "cell_type": "code",
   "execution_count": 21,
   "metadata": {},
   "outputs": [],
   "source": [
    "#driver.switch_to.default_content()\n",
    "#wait_for_element(driver,\"//iframe\")\n",
    "#iframes = driver.find_elements(By.XPATH, \"//iframe\")\n",
    "#driver.switch_to.frame(iframes[0])"
   ]
  },
  {
   "cell_type": "code",
   "execution_count": 22,
   "metadata": {},
   "outputs": [],
   "source": [
    "wait_for_element(driver,\"(//button[@class='el-button el-button--primary button'])[1]\")\n",
    "driver.find_element(By.XPATH, \"(//button[@class='el-button el-button--primary button'])[1]\").click()"
   ]
  },
  {
   "cell_type": "code",
   "execution_count": 23,
   "metadata": {},
   "outputs": [],
   "source": [
    "driver.find_element(By.XPATH, \"//textarea\").send_keys(magnet)"
   ]
  },
  {
   "cell_type": "code",
   "execution_count": 24,
   "metadata": {},
   "outputs": [],
   "source": [
    "els = driver.find_elements(By.XPATH, \"//button[@class='el-button el-button--primary']\")\n",
    "els[-1].click()"
   ]
  },
  {
   "cell_type": "code",
   "execution_count": 25,
   "metadata": {},
   "outputs": [],
   "source": [
    "time.sleep(1)"
   ]
  },
  {
   "cell_type": "code",
   "execution_count": 26,
   "metadata": {},
   "outputs": [],
   "source": [
    "driver.find_element(By.XPATH, \"//*[@class=\\\"el-dialog__body\\\"]/div[@class='button']\").click()"
   ]
  },
  {
   "cell_type": "code",
   "execution_count": 27,
   "metadata": {},
   "outputs": [],
   "source": [
    "driver.find_element(By.XPATH, \"(//button[@class='el-button el-button--primary button'])[1]\").click()"
   ]
  },
  {
   "cell_type": "code",
   "execution_count": 28,
   "metadata": {},
   "outputs": [],
   "source": [
    "driver.switch_to.window(driver.window_handles[-1])"
   ]
  },
  {
   "cell_type": "code",
   "execution_count": 29,
   "metadata": {},
   "outputs": [],
   "source": [
    "driver.find_element(By.XPATH,\"//a[@class='chrome']\").click()"
   ]
  },
  {
   "cell_type": "code",
   "execution_count": 30,
   "metadata": {},
   "outputs": [],
   "source": [
    "driver.switch_to.window(driver.window_handles[2])"
   ]
  },
  {
   "cell_type": "code",
   "execution_count": 31,
   "metadata": {},
   "outputs": [],
   "source": [
    "driver.find_element(By.XPATH,\"//span[contains(text(),'Add to Chrome')]\").click()"
   ]
  },
  {
   "cell_type": "code",
   "execution_count": 32,
   "metadata": {},
   "outputs": [],
   "source": [
    "time.sleep(5)\n",
    "pyautogui.hotkey('tab')\n",
    "pyautogui.hotkey('enter')"
   ]
  }
 ],
 "metadata": {
  "kernelspec": {
   "display_name": "Python 3",
   "language": "python",
   "name": "python3"
  },
  "language_info": {
   "codemirror_mode": {
    "name": "ipython",
    "version": 3
   },
   "file_extension": ".py",
   "mimetype": "text/x-python",
   "name": "python",
   "nbconvert_exporter": "python",
   "pygments_lexer": "ipython3",
   "version": "3.12.4"
  }
 },
 "nbformat": 4,
 "nbformat_minor": 2
}
